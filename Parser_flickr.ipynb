{
 "cells": [
  {
   "cell_type": "code",
   "execution_count": 3,
   "metadata": {},
   "outputs": [
    {
     "name": "stdout",
     "output_type": "stream",
     "text": [
      "['9775005856', '47247772241', '46550224945', '10137167724', '34738948615', '34582888851']\n",
      "['72157647691643269', '72157624276382051', '72157647691643269', '72157624276382051', '72157647691643269', '72157624276382051', '72157647691643269', '72157624276382051', '72157647691643269', '72157624276382051', '72157682715451892', '72157682715451892', '72157682715451892', '72157682715451892', '72157682715451892', '72157700330717721', '72157700330717721', '72157700330717721', '72157700330717721', '72157700330717721', '72157639779397285', '72157639779397285', '72157639779397285', '72157639779397285', '72157639779397285', '72157679125657484', '72157679125657484', '72157679125657484', '72157679125657484', '72157679125657484', '72157680773154454', '72157680773154454', '72157680773154454', '72157680773154454', '72157680773154454']\n"
     ]
    },
    {
     "ename": "FileExistsError",
     "evalue": "[Errno 17] File exists: '/Users/user/Desktop/aylifind/flickr/1'",
     "output_type": "error",
     "traceback": [
      "\u001b[0;31m---------------------------------------------------------------------------\u001b[0m",
      "\u001b[0;31mFileExistsError\u001b[0m                           Traceback (most recent call last)",
      "\u001b[0;32m<ipython-input-3-3f205666bc81>\u001b[0m in \u001b[0;36m<module>\u001b[0;34m\u001b[0m\n\u001b[1;32m     61\u001b[0m \u001b[0;32mfor\u001b[0m \u001b[0malbum_num\u001b[0m \u001b[0;32min\u001b[0m \u001b[0mrange\u001b[0m\u001b[0;34m(\u001b[0m\u001b[0mlen\u001b[0m\u001b[0;34m(\u001b[0m\u001b[0malbums_ids\u001b[0m\u001b[0;34m)\u001b[0m\u001b[0;34m-\u001b[0m\u001b[0;36m1\u001b[0m\u001b[0;34m)\u001b[0m\u001b[0;34m:\u001b[0m\u001b[0;34m\u001b[0m\u001b[0;34m\u001b[0m\u001b[0m\n\u001b[1;32m     62\u001b[0m     \u001b[0maccount_num\u001b[0m \u001b[0;34m+=\u001b[0m \u001b[0;36m1\u001b[0m\u001b[0;34m\u001b[0m\u001b[0;34m\u001b[0m\u001b[0m\n\u001b[0;32m---> 63\u001b[0;31m     \u001b[0mos\u001b[0m\u001b[0;34m.\u001b[0m\u001b[0mmkdir\u001b[0m\u001b[0;34m(\u001b[0m\u001b[0mpath_to_save\u001b[0m \u001b[0;34m+\u001b[0m \u001b[0mstr\u001b[0m\u001b[0;34m(\u001b[0m\u001b[0maccount_num\u001b[0m\u001b[0;34m)\u001b[0m\u001b[0;34m)\u001b[0m\u001b[0;34m\u001b[0m\u001b[0;34m\u001b[0m\u001b[0m\n\u001b[0m\u001b[1;32m     64\u001b[0m     \u001b[0;32mtry\u001b[0m\u001b[0;34m:\u001b[0m\u001b[0;34m\u001b[0m\u001b[0;34m\u001b[0m\u001b[0m\n\u001b[1;32m     65\u001b[0m         request_album=flickr.photosets.getPhotos(api_key=api_key, \n",
      "\u001b[0;31mFileExistsError\u001b[0m: [Errno 17] File exists: '/Users/user/Desktop/aylifind/flickr/1'"
     ]
    }
   ],
   "source": [
    "# pip install flickrapi\n",
    "import flickrapi\n",
    "import urllib.request\n",
    "from PIL import Image\n",
    "import os\n",
    "import urllib\n",
    "\n",
    "api_key = 'ee6ae6e01cb3ab4ac1a21a584c38cdf0'\n",
    "secret = '9648a599079887ec'\n",
    "\n",
    "path_to_save = '/Users/user/Desktop/aylifind/flickr/'\n",
    "\n",
    "# Поиск по слову\n",
    "keyword = 'cats'\n",
    "\n",
    "# Количество аккаунтов, которые выкачиваем за раз\n",
    "accounts_num = 5\n",
    "\n",
    "# Количество фотографий с одного аккаунта, которое выкачиваем за раз\n",
    "max_photos_per_each_account = 100\n",
    "\n",
    "\n",
    "flickr=flickrapi.FlickrAPI(api_key, secret, cache=True)\n",
    "photos = flickr.walk(text=keyword,\n",
    "                     tag_mode='all',\n",
    "                     tags=keyword,\n",
    "                     extras='url_c',\n",
    "                     per_page=100,\n",
    "                     sort='relevance')\n",
    "\n",
    "# Получаем изображение из поиска по запросу keyword\n",
    "urls = []\n",
    "ids = []\n",
    "for i, photo in enumerate(photos):\n",
    "    url = photo.get('url_c')\n",
    "    if url == None:\n",
    "        continue\n",
    "    else:\n",
    "        id_ = url.split('/')[-1].split('_')[0]\n",
    "        urls.append(url)\n",
    "        ids.append(id_)\n",
    "    if len(ids) > accounts_num:\n",
    "        break\n",
    "\n",
    "print(ids)\n",
    "# На каждое из изображений, найденное поиском, получаем список ID альбомов, в котором оно содержится\n",
    "albums_ids = []\n",
    "for photo_id in ids:\n",
    "    for i in range(accounts_num):\n",
    "        im = flickr.photos.getAllContexts(api_key=api_key, photo_id=photo_id, format='parsed-json')\n",
    "        for album in im['set']:\n",
    "            albums_ids.append(album['id'])\n",
    "print(albums_ids)\n",
    "\n",
    "# Получаем информацию о пользователе, загрузившем данное изображение\n",
    "user_request = flickr.photos.getInfo(api_key=api_key, photo_id=ids[1], format='parsed-json')\n",
    "user_id = user_request['photo']['owner']['nsid']\n",
    "\n",
    "# Для каждого из альбомов найденной в поиске фотки - получаем список его изображений (точнее, их ID)\n",
    "account_num = 0\n",
    "for album_num in range(len(albums_ids)-1):\n",
    "    account_num += 1\n",
    "    os.mkdir(path_to_save + str(account_num))\n",
    "    try:\n",
    "        request_album=flickr.photosets.getPhotos(api_key=api_key, \n",
    "                                                 photoset_id=albums_ids[album_num], \n",
    "                                                 user_id=user_id, \n",
    "                                                 format='parsed-json')\n",
    "    except:\n",
    "        continue\n",
    "    # Пробегаем по всем фоткам из альбома albums_id[номер_альбома], к которым относится исходная фотография\n",
    "    file_num = 0\n",
    "    while file_num < max_photos_per_each_account:\n",
    "        for i in range(len(request_album['photoset']['photo'])):\n",
    "            file_num += 1\n",
    "            photo_id = request_album['photoset']['photo'][i]['id']\n",
    "            photo_sizes = flickr.photos.getSizes(api_key=api_key, photo_id=photo_id, format='parsed-json')\n",
    "            photo_url = photo_sizes['sizes']['size'][-1]['source']\n",
    "            photo_file = urllib.request.urlretrieve(photo_url, path_to_save + '/' + str(account_num) + f'/{file_num}.jpg')\n",
    "        "
   ]
  },
  {
   "cell_type": "code",
   "execution_count": null,
   "metadata": {},
   "outputs": [],
   "source": [
    "import flickrapi\n",
    "from pprint import pprint\n",
    "\n",
    "api_key = 'ee6ae6e01cb3ab4ac1a21a584c38cdf0'\n",
    "secret = '9648a599079887ec'\n",
    "flickr = flickrapi.FlickrAPI(api_key, secret, format='parsed-json')\n",
    "\n",
    "group_id = '544735@N20'    # caterpillarequipment's group_id\n",
    "response = flickr.groups.pools.getPhotos(group_id=group_id, per_page=3)\n",
    "pprint(response)"
   ]
  },
  {
   "cell_type": "code",
   "execution_count": null,
   "metadata": {},
   "outputs": [],
   "source": []
  }
 ],
 "metadata": {
  "kernelspec": {
   "display_name": "Python 3",
   "language": "python",
   "name": "python3"
  },
  "language_info": {
   "codemirror_mode": {
    "name": "ipython",
    "version": 3
   },
   "file_extension": ".py",
   "mimetype": "text/x-python",
   "name": "python",
   "nbconvert_exporter": "python",
   "pygments_lexer": "ipython3",
   "version": "3.7.3"
  }
 },
 "nbformat": 4,
 "nbformat_minor": 2
}
